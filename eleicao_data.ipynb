{
 "cells": [
  {
   "cell_type": "markdown",
   "metadata": {},
   "source": [
    "# Analise de dado das Ultimas eleicoes"
   ]
  },
  {
   "cell_type": "markdown",
   "metadata": {},
   "source": [
    "O TSE disponibiliza 3 grupos de dados distintos sore elicoes passadas.\n",
    "\n",
    "\n",
    "**3) Uma pesquisa de perfil do eleitorado**: informacoes sobre sexo, faixa etária e grau de escolaridade em casa seção eleitoral\n",
    "\n",
    "**2) Descricao dos Candidatos**: idade, sexo, partido, coligacao, grau de instrucao.....\n",
    "\n",
    "\n",
    "**3) Numero de votos por candidato em cada seção eleitoral**:\n",
    "\n",
    "\n",
    "\n",
    "todos os dados vem desse link: http://www.tse.jus.br/eleitor-e-eleicoes/estatisticas/repositorio-de-dados-eleitorais-1/repositorio-de-dados-eleitorais"
   ]
  },
  {
   "cell_type": "markdown",
   "metadata": {},
   "source": [
    "Alem deles, vou utilizar uma tabela contendo o **endereco de cada seçao eleitoral** para fazermos os mapas.\n",
    "\n",
    "Essa tabela foi produzida usando o geocode do google a partir da tabela de enderecos encontrada no site do TSE.\n",
    "\n",
    "to do: encontrar um mapa das zonas elitorais!"
   ]
  },
  {
   "cell_type": "code",
   "execution_count": 8,
   "metadata": {
    "collapsed": true
   },
   "outputs": [],
   "source": []
  },
  {
   "cell_type": "code",
   "execution_count": null,
   "metadata": {
    "collapsed": true
   },
   "outputs": [],
   "source": [
    "# import libraries\n",
    "import pandas as pd\n",
    "import os, sys"
   ]
  },
  {
   "cell_type": "code",
   "execution_count": 33,
   "metadata": {},
   "outputs": [
    {
     "name": "stdout",
     "output_type": "stream",
     "text": [
      "/home/jm/DATABASE-RJ/luti\n"
     ]
    }
   ],
   "source": [
    "# Print current working directory\n",
    "print(os.getcwd())"
   ]
  },
  {
   "cell_type": "code",
   "execution_count": null,
   "metadata": {
    "collapsed": true
   },
   "outputs": [],
   "source": []
  },
  {
   "cell_type": "markdown",
   "metadata": {},
   "source": [
    "## 2016"
   ]
  },
  {
   "cell_type": "markdown",
   "metadata": {},
   "source": [
    "### importando os dados pro notebook\n",
    "\n",
    "to do: automatizar o download e import dos dados"
   ]
  },
  {
   "cell_type": "code",
   "execution_count": null,
   "metadata": {
    "collapsed": true
   },
   "outputs": [],
   "source": [
    "# perfil eleitorado\n",
    "perfil_eleitorado_rj = pd.read_csv(\"2016/perfil_eleitorado_2016/perfil_eleitorado_2016.txt\", sep=\";\", header=None,encoding='latin1')\n",
    "perfil_eleitorado_rj.columns = [\"PERIODO\", \"UF\", \"MUNICIPIO\", \"COD_MUNICIPIO_TSE\", \"NR_ZONA\", \"SEXO\", \"FAIXA_ETARIA\",\n",
    "                               \"GRAU_DE_ESCOLARIDADE\", \"QTD_ELEITORES_NO_PERFIL\"]"
   ]
  },
  {
   "cell_type": "code",
   "execution_count": 43,
   "metadata": {},
   "outputs": [],
   "source": [
    "#candidatos \n",
    "consulta_cand_2016_RJ = pd.read_csv(\"2016/consulta_cand_2016/consulta_cand_2016_RJ.txt\", sep=\";\", header=None,encoding='latin1')\n",
    "consulta_cand_2016_RJ.columns = [\"DATA_GERACAO\", \"HORA_GERACAO\", \"ANO_ELEICAO\", \"NUM_TURNO\", \"DESCRICAO_ELEICAO\",\n",
    "                               \"SIGLA_UF\", \"SIGLA_UE\", \"DESCRICAO_UE\", \"CODIGO_CARGO\", \"DESCRICAO_CARGO\", \n",
    "                                \"NOME_CANDIDATO\", \"SEQUENCIAL_CANDIDATO\",\"NUMERO_CANDIDATO\", \"CPF_CANDIDATO\", \"NOME_URNA_CANDIDATO\",\n",
    "                                \"COD_SITUACAO_CANDIDATURA\", \"DES_SITUACAO_CANDIDATURA\", \"NUMERO_PARTIDO\", \n",
    "                                 \"SIGLA_PARTIDO\", \"NOME_PARTIDO\", \"CODIGO_LEGENDA\", \"SIGLA_LEGENDA\", \"COMPOSICAO_LEGENDA\",\n",
    "                                 \"NOME_LEGENDA\", \"CODIGO_OCUPACAO\", \"DESCRICAO_OCUPACAO\", \"DATA_NASCIMENTO\", \"NUM_TITULO_ELEITORAL_CANDIDATO\",\n",
    "                                 \"IDADE_DATA_ELEICAO\", \"CODIGO_SEXO\", \"DESCRICAO_SEXO\", \"COD_GRAU_INSTRUCAO\", \"DESCRICAO_GRAU_INSTRUCAO\",\n",
    "                                 \"CODIGO_ESTADO_CIVIL\", \"DESCRICAO_ESTADO_CIVIL\", \"CODIGO_COR_RACA\", \"DESCRICAO_COR_RACA\", \"CODIGO_NACIONALIDADE\",\n",
    "                                 \"DESCRICAO_NACIONALIDADE\", \"SIGLA_UF_NASCIMENTO\", \"CODIGO_MUNICIPIO_NASCIMENTO\", \"NOME_MUNICIPIO_NASCIMENTO\",\n",
    "                                 \"DESPESA_MAX_CAMPANHA\", \"COD_SIT_TOT_TURNO\", \"DESC_SIT_TOT_TURNO\", \"NM_EMAIL\"]"
   ]
  },
  {
   "cell_type": "code",
   "execution_count": null,
   "metadata": {},
   "outputs": [],
   "source": [
    "# votacao por secao\n",
    "perfil_eleitorado_rj = pd.read_csv(\"2016/perfil_eleitorado_2016/perfil_eleitorado_2016.txt\", sep=\";\", header=None,encoding='latin1')\n",
    "perfil_eleitorado_rj.columns = [\"PERIODO\", \"UF\", \"MUNICIPIO\", \"COD_MUNICIPIO_TSE\", \"NR_ZONA\", \"SEXO\", \"FAIXA_ETARIA\",\n",
    "                               \"GRAU_DE_ESCOLARIDADE\", \"QTD_ELEITORES_NO_PERFIL\"]"
   ]
  },
  {
   "cell_type": "code",
   "execution_count": null,
   "metadata": {
    "collapsed": true
   },
   "outputs": [],
   "source": []
  },
  {
   "cell_type": "code",
   "execution_count": null,
   "metadata": {},
   "outputs": [],
   "source": []
  },
  {
   "cell_type": "code",
   "execution_count": null,
   "metadata": {
    "collapsed": true
   },
   "outputs": [],
   "source": []
  },
  {
   "cell_type": "code",
   "execution_count": null,
   "metadata": {
    "collapsed": true
   },
   "outputs": [],
   "source": []
  },
  {
   "cell_type": "code",
   "execution_count": null,
   "metadata": {
    "collapsed": true
   },
   "outputs": [],
   "source": []
  },
  {
   "cell_type": "code",
   "execution_count": null,
   "metadata": {
    "collapsed": true
   },
   "outputs": [],
   "source": []
  },
  {
   "cell_type": "code",
   "execution_count": null,
   "metadata": {
    "collapsed": true
   },
   "outputs": [],
   "source": [
    "consulta_cand_2016_RJ.head()"
   ]
  },
  {
   "cell_type": "code",
   "execution_count": null,
   "metadata": {
    "collapsed": true
   },
   "outputs": [],
   "source": [
    "perfil_eleitorado_rj.head()"
   ]
  },
  {
   "cell_type": "code",
   "execution_count": null,
   "metadata": {
    "collapsed": true
   },
   "outputs": [],
   "source": []
  },
  {
   "cell_type": "code",
   "execution_count": null,
   "metadata": {
    "collapsed": true
   },
   "outputs": [],
   "source": [
    "votacao_secao_2016_RJ.head()\n",
    "votacao_secao_2016_RJ.DESCRICAO_CARGO.unique()"
   ]
  },
  {
   "cell_type": "code",
   "execution_count": null,
   "metadata": {
    "collapsed": true
   },
   "outputs": [],
   "source": []
  }
 ],
 "metadata": {
  "anaconda-cloud": {},
  "kernelspec": {
   "display_name": "Python [Root]",
   "language": "python",
   "name": "Python [Root]"
  },
  "language_info": {
   "codemirror_mode": {
    "name": "ipython",
    "version": 3
   },
   "file_extension": ".py",
   "mimetype": "text/x-python",
   "name": "python",
   "nbconvert_exporter": "python",
   "pygments_lexer": "ipython3",
   "version": "3.5.2"
  }
 },
 "nbformat": 4,
 "nbformat_minor": 1
}
